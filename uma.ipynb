{
  "nbformat": 4,
  "nbformat_minor": 0,
  "metadata": {
    "colab": {
      "provenance": []
    },
    "kernelspec": {
      "name": "python3",
      "display_name": "Python 3"
    },
    "language_info": {
      "name": "python"
    }
  },
  "cells": [
    {
      "cell_type": "code",
      "execution_count": null,
      "metadata": {
        "colab": {
          "base_uri": "https://localhost:8080/"
        },
        "id": "B3Y3dhJMEVxh",
        "outputId": "6e0d82f2-cdca-424a-e2b6-af23c77dd348"
      },
      "outputs": [
        {
          "output_type": "stream",
          "name": "stdout",
          "text": [
            "Enter an number to calculate its factorial5\n",
            "The factorial of 5 is 120\n"
          ]
        }
      ],
      "source": [
        "#Factorial\n",
        "def factorial(n):\n",
        "  if n==0:\n",
        "    return 1\n",
        "  else:\n",
        "    return n*factorial(n-1)\n",
        "num=int(input(\"Enter an number to calculate its factorial\"))\n",
        "if num < 0:\n",
        "  print(\"Factorial is not defined for negative numbers.\")\n",
        "else:\n",
        "        result = factorial(num)\n",
        "        print(f\"The factorial of {num} is {result}\")\n"
      ]
    },
    {
      "cell_type": "code",
      "source": [
        "#Average and Sum\n",
        "def sum_average(numbers):\n",
        "    total = sum(numbers)\n",
        "    average = total / len(numbers)\n",
        "\n",
        "    return total, average\n",
        "numbers = [10, 20, 30, 40, 50]\n",
        "total, average = sum_average(numbers)\n",
        "\n",
        "if total is not None and average is not None:\n",
        "    print(f\"Sum: {total}\")\n",
        "    print(f\"Average: {average}\")\n",
        "else:\n",
        "    print(\"The list is empty.\")\n"
      ],
      "metadata": {
        "colab": {
          "base_uri": "https://localhost:8080/"
        },
        "id": "0c2UfTVYErNg",
        "outputId": "692900b2-f371-4347-8856-5ad3f7dc737c"
      },
      "execution_count": null,
      "outputs": [
        {
          "output_type": "stream",
          "name": "stdout",
          "text": [
            "Sum: 150\n",
            "Average: 30.0\n"
          ]
        }
      ]
    }
  ]
}